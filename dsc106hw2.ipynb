{
 "cells": [
  {
   "cell_type": "code",
   "execution_count": 145,
   "metadata": {},
   "outputs": [
    {
     "data": {
      "image/png": "[encoded data removed]",
      "text/plain": [
       "<Figure size 432x288 with 1 Axes>"
      ]
     },
     "metadata": {},
     "output_type": "display_data"
    },
    {
     "data": {
      "text/plain": [
       "([<matplotlib.axis.YTick at 0x12191a780>,\n",
       "  <matplotlib.axis.YTick at 0x12191a0b8>],\n",
       " <a list of 2 Text yticklabel objects>)"
      ]
     },
     "execution_count": 145,
     "metadata": {},
     "output_type": "execute_result"
    },
    {
     "data": {
      "image/png": "[encoded data removed]",
      "text/plain": [
       "<Figure size 432x288 with 1 Axes>"
      ]
     },
     "metadata": {
      "needs_background": "light"
     },
     "output_type": "display_data"
    }
   ],
   "source": [
    "import pandas as pd\n",
    "from datetime import datetime\n",
    "pd.read_csv('daily_sales.csv')\n",
    "moth=pd.read_csv('monthly_sales.csv')\n",
    "moth=moth\n",
    "ne=moth[[x for x in moth.columns if 'NE' in x]].T.sum().T\n",
    "sw=moth[[x for x in moth.columns if 'SW' in x]].T.sum().T\n",
    "nw=moth[[x for x in moth.columns if 'NW' in x]].T.sum().T\n",
    "se=moth[[x for x in moth.columns if 'SE' in x]].T.sum().T\n",
    "c=moth[[x for x in moth.columns if '-C' in x]].T.sum().T\n",
    "month=pd.DataFrame({'time':moth['Month, Year'],'NE':ne,'SW':sw,'SE':se,'C':c,'NW':nw})\n",
    "month.time=month.time.apply(lambda x: datetime.strptime(x,'%b-%y'))\n",
    "month.index=month.time\n",
    "month.drop(columns=['time'],inplace=True)\n",
    "a=pd.DataFrame()\n",
    "ne=month.NE.sum()\n",
    "se=month.SE.sum()\n",
    "c=month.C.sum()\n",
    "sw=month.SW.sum()\n",
    "nw=month.NW.sum()\n",
    "labels=['NE','SW','NW','SE','C']\n",
    "import matplotlib.pyplot as plt\n",
    "fig1, ax1 = plt.subplots()\n",
    "ax1.pie([ne,sw,nw,se,c], labels=labels, autopct='%1.1f%%',\n",
    "        shadow=True, startangle=90)\n",
    "plt.show()\n",
    "pd.read_csv('daily_sales.csv')\n",
    "plt.bar(labels,[ne,sw,nw,se,c],bottom=180000)\n",
    "plt.yticks([100000000,120000000])"
   ]
  },
  {
   "cell_type": "code",
   "execution_count": 163,
   "metadata": {},
   "outputs": [
    {
     "data": {
      "text/plain": [
       "NE   -399682.0\n",
       "SW   -421400.0\n",
       "SE   -362667.0\n",
       "C    -307517.0\n",
       "NW   -381968.0\n",
       "Name: 2018-10-01 00:00:00, dtype: float64"
      ]
     },
     "execution_count": 163,
     "metadata": {},
     "output_type": "execute_result"
    }
   ],
   "source": [
    "import pandas as pd\n",
    "from datetime import datetime\n",
    "pd.read_csv('daily_sales.csv')\n",
    "moth=pd.read_csv('monthly_sales.csv')\n",
    "moth=moth\n",
    "ne=moth[[x for x in moth.columns if 'NE' in x]].T.sum().T\n",
    "sw=moth[[x for x in moth.columns if 'SW' in x]].T.sum().T\n",
    "nw=moth[[x for x in moth.columns if 'NW' in x]].T.sum().T\n",
    "se=moth[[x for x in moth.columns if 'SE' in x]].T.sum().T\n",
    "c=moth[[x for x in moth.columns if '-C' in x]].T.sum().T\n",
    "month=pd.DataFrame({'time':moth['Month, Year'],'NE':ne,'SW':sw,'SE':se,'C':c,'NW':nw})\n",
    "month.time=month.time.apply(lambda x: datetime.strptime(x,'%b-%y'))\n",
    "month.index=month.time\n",
    "month.drop(columns=['time'],inplace=True)\n",
    "#a=pd.DataFrame()\n",
    "#ne=month.NE.sum()\n",
    "#se=month.SE.sum()\n",
    "#c=month.C.sum()\n",
    "#sw=month.SW.sum()\n",
    "#nw=month.NW.sum()\n",
    "#month.diff().sum(axis=1).to_csv(\"diff.csv\")\n",
    "month.diff().iloc[33]"
   ]
  },
  {
   "cell_type": "code",
   "execution_count": 167,
   "metadata": {},
   "outputs": [],
   "source": [
    "import pandas as pd\n",
    "moth=pd.read_csv('monthly_sales.csv')\n",
    "hm=moth[[x for x in moth.columns if 'HM' in x]].T.sum().T\n",
    "cf=moth[[x for x in moth.columns if 'CF' in x]].T.sum().T\n",
    "ff=moth[[x for x in moth.columns if 'FF' in x]].T.sum().T\n",
    "month=pd.DataFrame({'time':moth['Month, Year'],'HM':hm,'CF':cf,'FF':ff})\n",
    "before=month[:33]\n",
    "after=month[25:]\n",
    "month.time=month.time.apply(lambda x: datetime.strptime(x,'%b-%y'))\n",
    "month.time=month.time.apply(lambda x: datetime.strftime(x,'%b %Y'))\n",
    "month.index=month.time\n",
    "month.drop(columns=['time'],inplace=True)\n",
    "#month.to_csv(r'monthly.csv')"
   ]
  },
  {
   "cell_type": "code",
   "execution_count": 169,
   "metadata": {},
   "outputs": [],
   "source": [
    "month.HM.to_csv('ham.csv')"
   ]
  },
  {
   "cell_type": "code",
   "execution_count": 165,
   "metadata": {},
   "outputs": [],
   "source": [
    "df=pd.read_csv('daily_sales.csv')\n",
    "df.columns=['day of week', 'Day', 'HM-NE', 'CF-NE', 'FF-NE', 'HM-SW', 'CF-SW',\n",
    "       'FF-SW', 'HM-NW', 'CF-NW', 'FF-NW', 'HM-SE', 'CF-SE', 'FF-SE', 'HM-C',\n",
    "       'CF-C', 'FF-C']\n",
    "moth=df.groupby(['day of week']).mean()\n",
    "hm=moth[[x for x in moth.columns if 'HM' in x]].T.sum().T\n",
    "cf=moth[[x for x in moth.columns if 'CF' in x]].T.sum().T\n",
    "ff=moth[[x for x in moth.columns if 'FF' in x]].T.sum().T\n",
    "daily=pd.DataFrame({'day':moth.index,'HM':hm,'CF':cf,'FF':ff})\n",
    "daily.drop(columns=['day']).sum(axis=1).to_csv('dai.csv')\n",
    "#.plot(kind='bar')\n",
    "#plt.yticks([200000,300000])"
   ]
  },
  {
   "cell_type": "code",
   "execution_count": null,
   "metadata": {},
   "outputs": [],
   "source": []
  }
 ],
 "metadata": {
  "kernelspec": {
   "display_name": "Python 3",
   "language": "python",
   "name": "python3"
  },
  "language_info": {
   "codemirror_mode": {
    "name": "ipython",
    "version": 3
   },
   "file_extension": ".py",
   "mimetype": "text/x-python",
   "name": "python",
   "nbconvert_exporter": "python",
   "pygments_lexer": "ipython3",
   "version": "3.7.1"
  }
 },
 "nbformat": 4,
 "nbformat_minor": 2
}
